{
 "cells": [
  {
   "cell_type": "markdown",
   "metadata": {},
   "source": [
    "# Classification Random Forest"
   ]
  },
  {
   "cell_type": "code",
   "execution_count": 1,
   "metadata": {},
   "outputs": [
    {
     "name": "stderr",
     "output_type": "stream",
     "text": [
      "C:\\Users\\visha\\Anaconda3\\lib\\site-packages\\sklearn\\cross_validation.py:44: DeprecationWarning: This module was deprecated in version 0.18 in favor of the model_selection module into which all the refactored classes and functions are moved. Also note that the interface of the new CV iterators are different from that of this module. This module will be removed in 0.20.\n",
      "  \"This module will be removed in 0.20.\", DeprecationWarning)\n"
     ]
    }
   ],
   "source": [
    "import pickle\n",
    "from sklearn.cross_validation import train_test_split\n",
    "from sklearn.metrics import confusion_matrix\n",
    "import pandas as pd\n",
    "from statsmodels.formula.api import logit, probit, poisson, ols\n",
    "from sklearn.metrics import roc_curve\n",
    "from sklearn import metrics\n",
    "from sklearn import svm\n",
    "from sklearn.cross_validation  import cross_val_score\n",
    "import numpy as np\n",
    "from sklearn.ensemble import RandomForestClassifier\n",
    "import statsmodels.api as sm\n",
    "import os\n",
    "from sklearn.ensemble import RandomForestClassifier\n",
    "from sklearn.cross_validation  import cross_val_score"
   ]
  },
  {
   "cell_type": "code",
   "execution_count": 43,
   "metadata": {
    "collapsed": true
   },
   "outputs": [],
   "source": [
    "MATRIXPATH=\"C:/Users/visha/Desktop/MSIS/Advanced Data Science/Assignments/MIDTERM/Part2/ClassificationMetrics.csv\"\n",
    "MAINPATH=\"C:/Users/visha/Desktop/MSIS/Advanced Data Science/Assignments/MIDTERM/Part2/temp\"\n",
    "TRAINFILENAME=\"clean_historical_data1_time_Q12005.txt.0\"\n",
    "TESTFILENAME=\"clean_historical_data1_time_Q22005.txt.0\""
   ]
  },
  {
   "cell_type": "code",
   "execution_count": 22,
   "metadata": {
    "collapsed": true
   },
   "outputs": [],
   "source": [
    "Train_DF = pd.read_csv(MAINPATH+\"/\"+TRAINFILENAME,index_col=None)"
   ]
  },
  {
   "cell_type": "code",
   "execution_count": 23,
   "metadata": {},
   "outputs": [
    {
     "data": {
      "text/html": [
       "<div>\n",
       "<table border=\"1\" class=\"dataframe\">\n",
       "  <thead>\n",
       "    <tr style=\"text-align: right;\">\n",
       "      <th></th>\n",
       "      <th>LOAN_SEQ_NO</th>\n",
       "      <th>MONTHLY_REPORT_PERIOD</th>\n",
       "      <th>CUR_ACT_UPB</th>\n",
       "      <th>CUR_LOAN_DELQ_STAT</th>\n",
       "      <th>LOAN_AGE</th>\n",
       "      <th>MONTHS_LEGAL_MATURITY</th>\n",
       "      <th>CURR_INTERESTRATE</th>\n",
       "      <th>CURR_DEF_UPB</th>\n",
       "      <th>DELINQUENT</th>\n",
       "    </tr>\n",
       "  </thead>\n",
       "  <tbody>\n",
       "    <tr>\n",
       "      <th>0</th>\n",
       "      <td>F105Q1000001</td>\n",
       "      <td>200504</td>\n",
       "      <td>190000.0</td>\n",
       "      <td>0</td>\n",
       "      <td>0</td>\n",
       "      <td>360</td>\n",
       "      <td>5.625</td>\n",
       "      <td>0.0</td>\n",
       "      <td>0</td>\n",
       "    </tr>\n",
       "    <tr>\n",
       "      <th>1</th>\n",
       "      <td>F105Q1000001</td>\n",
       "      <td>200505</td>\n",
       "      <td>190000.0</td>\n",
       "      <td>0</td>\n",
       "      <td>1</td>\n",
       "      <td>359</td>\n",
       "      <td>5.625</td>\n",
       "      <td>0.0</td>\n",
       "      <td>0</td>\n",
       "    </tr>\n",
       "    <tr>\n",
       "      <th>2</th>\n",
       "      <td>F105Q1000001</td>\n",
       "      <td>200506</td>\n",
       "      <td>190000.0</td>\n",
       "      <td>0</td>\n",
       "      <td>2</td>\n",
       "      <td>358</td>\n",
       "      <td>5.625</td>\n",
       "      <td>0.0</td>\n",
       "      <td>0</td>\n",
       "    </tr>\n",
       "    <tr>\n",
       "      <th>3</th>\n",
       "      <td>F105Q1000001</td>\n",
       "      <td>200507</td>\n",
       "      <td>189000.0</td>\n",
       "      <td>0</td>\n",
       "      <td>3</td>\n",
       "      <td>357</td>\n",
       "      <td>5.625</td>\n",
       "      <td>0.0</td>\n",
       "      <td>0</td>\n",
       "    </tr>\n",
       "    <tr>\n",
       "      <th>4</th>\n",
       "      <td>F105Q1000001</td>\n",
       "      <td>200508</td>\n",
       "      <td>189000.0</td>\n",
       "      <td>0</td>\n",
       "      <td>4</td>\n",
       "      <td>356</td>\n",
       "      <td>5.625</td>\n",
       "      <td>0.0</td>\n",
       "      <td>0</td>\n",
       "    </tr>\n",
       "  </tbody>\n",
       "</table>\n",
       "</div>"
      ],
      "text/plain": [
       "    LOAN_SEQ_NO  MONTHLY_REPORT_PERIOD  CUR_ACT_UPB  CUR_LOAN_DELQ_STAT  \\\n",
       "0  F105Q1000001                 200504     190000.0                   0   \n",
       "1  F105Q1000001                 200505     190000.0                   0   \n",
       "2  F105Q1000001                 200506     190000.0                   0   \n",
       "3  F105Q1000001                 200507     189000.0                   0   \n",
       "4  F105Q1000001                 200508     189000.0                   0   \n",
       "\n",
       "   LOAN_AGE  MONTHS_LEGAL_MATURITY  CURR_INTERESTRATE  CURR_DEF_UPB  \\\n",
       "0         0                    360              5.625           0.0   \n",
       "1         1                    359              5.625           0.0   \n",
       "2         2                    358              5.625           0.0   \n",
       "3         3                    357              5.625           0.0   \n",
       "4         4                    356              5.625           0.0   \n",
       "\n",
       "   DELINQUENT  \n",
       "0           0  \n",
       "1           0  \n",
       "2           0  \n",
       "3           0  \n",
       "4           0  "
      ]
     },
     "execution_count": 23,
     "metadata": {},
     "output_type": "execute_result"
    }
   ],
   "source": [
    "Train_DF.head()"
   ]
  },
  {
   "cell_type": "code",
   "execution_count": 24,
   "metadata": {
    "collapsed": true
   },
   "outputs": [],
   "source": [
    "traincols=['LOAN_SEQ_NO','MONTHLY_REPORT_PERIOD','CUR_ACT_UPB','CUR_LOAN_DELQ_STAT','LOAN_AGE','MONTHS_LEGAL_MATURITY','CURR_INTERESTRATE','CURR_DEF_UPB','DELINQUENT']\n",
    "traincols=['MONTHLY_REPORT_PERIOD','CUR_ACT_UPB','LOAN_AGE','MONTHS_LEGAL_MATURITY','CURR_INTERESTRATE','CURR_DEF_UPB']"
   ]
  },
  {
   "cell_type": "code",
   "execution_count": 25,
   "metadata": {
    "collapsed": true
   },
   "outputs": [],
   "source": [
    "y_train=Train_DF['DELINQUENT']\n",
    "Train_DF=Train_DF[traincols]"
   ]
  },
  {
   "cell_type": "code",
   "execution_count": 26,
   "metadata": {
    "collapsed": true
   },
   "outputs": [],
   "source": [
    "Test_DF=pd.read_csv(MAINPATH+\"/\"+TESTFILENAME,index_col=None)"
   ]
  },
  {
   "cell_type": "code",
   "execution_count": 27,
   "metadata": {
    "collapsed": true
   },
   "outputs": [],
   "source": [
    "testcols=['MONTHLY_REPORT_PERIOD','CUR_ACT_UPB','CUR_LOAN_DELQ_STAT','LOAN_AGE','MONTHS_LEGAL_MATURITY','CURR_INTERESTRATE','CURR_DEF_UPB','DELINQUENT']\n",
    "testcols=['MONTHLY_REPORT_PERIOD','CUR_ACT_UPB','LOAN_AGE','MONTHS_LEGAL_MATURITY','CURR_INTERESTRATE','CURR_DEF_UPB']\n"
   ]
  },
  {
   "cell_type": "code",
   "execution_count": 31,
   "metadata": {
    "collapsed": true
   },
   "outputs": [],
   "source": [
    "y_test=Test_DF['DELINQUENT']\n",
    "Test_DF=Test_DF[testcols]"
   ]
  },
  {
   "cell_type": "code",
   "execution_count": 28,
   "metadata": {
    "collapsed": true,
    "scrolled": true
   },
   "outputs": [],
   "source": [
    "#clf = RandomForestClassifier(n_estimators=20,verbose =1,min_samples_split=2)\n",
    "#clf = clf.fit(Train_DF, y_train)"
   ]
  },
  {
   "cell_type": "code",
   "execution_count": 29,
   "metadata": {},
   "outputs": [
    {
     "name": "stderr",
     "output_type": "stream",
     "text": [
      "[Parallel(n_jobs=1)]: Done  20 out of  20 | elapsed:  9.0min finished\n"
     ]
    }
   ],
   "source": [
    "clf = RandomForestClassifier(n_estimators=20,verbose =1,min_samples_split=10)\n",
    "clf = clf.fit(Train_DF, y_train)"
   ]
  },
  {
   "cell_type": "markdown",
   "metadata": {},
   "source": [
    "## Train Accuracy"
   ]
  },
  {
   "cell_type": "code",
   "execution_count": 43,
   "metadata": {},
   "outputs": [
    {
     "name": "stderr",
     "output_type": "stream",
     "text": [
      "[Parallel(n_jobs=1)]: Done  20 out of  20 | elapsed:  1.2min finished\n"
     ]
    },
    {
     "name": "stdout",
     "output_type": "stream",
     "text": [
      "0.971850857143\n"
     ]
    }
   ],
   "source": [
    "print(clf.score(Train_DF,y_train))"
   ]
  },
  {
   "cell_type": "markdown",
   "metadata": {},
   "source": [
    "## Test Accuracy"
   ]
  },
  {
   "cell_type": "code",
   "execution_count": 33,
   "metadata": {},
   "outputs": [
    {
     "name": "stderr",
     "output_type": "stream",
     "text": [
      "[Parallel(n_jobs=1)]: Done  20 out of  20 | elapsed:   40.1s finished\n"
     ]
    }
   ],
   "source": [
    "pred = clf.predict(Test_DF)"
   ]
  },
  {
   "cell_type": "code",
   "execution_count": 34,
   "metadata": {},
   "outputs": [
    {
     "data": {
      "text/plain": [
       "0.94709971428571427"
      ]
     },
     "execution_count": 34,
     "metadata": {},
     "output_type": "execute_result"
    }
   ],
   "source": [
    "metrics.accuracy_score(y_test,pred)"
   ]
  },
  {
   "cell_type": "code",
   "execution_count": 37,
   "metadata": {},
   "outputs": [
    {
     "data": {
      "text/plain": [
       "array([[6606972,   41808],\n",
       "       [ 328494,   22726]])"
      ]
     },
     "execution_count": 37,
     "metadata": {},
     "output_type": "execute_result"
    }
   ],
   "source": [
    "#pd.crosstab(pred, y_test,rownames=['pred'],colnames=['ytest'])\n",
    "confusion_matrix(y_test, pred, labels=None, sample_weight=None)"
   ]
  },
  {
   "cell_type": "code",
   "execution_count": 39,
   "metadata": {},
   "outputs": [
    {
     "name": "stderr",
     "output_type": "stream",
     "text": [
      "[Parallel(n_jobs=1)]: Done  20 out of  20 | elapsed:   39.9s finished\n"
     ]
    }
   ],
   "source": [
    "preds = clf.predict_proba(Test_DF)[:,1]\n",
    "fpr,tpr, _ = roc_curve(y_test,preds)"
   ]
  },
  {
   "cell_type": "markdown",
   "metadata": {},
   "source": [
    "## ROC Curve"
   ]
  },
  {
   "cell_type": "code",
   "execution_count": 40,
   "metadata": {},
   "outputs": [
    {
     "data": {
      "image/png": "[encoded data removed]",
      "text/plain": [
       "<matplotlib.figure.Figure at 0x215a8545fd0>"
      ]
     },
     "metadata": {},
     "output_type": "display_data"
    }
   ],
   "source": [
    "import matplotlib.pylab as plt\n",
    "\n",
    "plt.figure()\n",
    "plt.plot(fpr,tpr,label= \"ROC CURVE\")\n",
    "plt.plot([0,1],[0,1],'k--')\n",
    "plt.xlim([0.0,1.0])\n",
    "plt.ylim([0.0,1.05])\n",
    "plt.xlabel('1-Specificity')\n",
    "plt.ylabel('Sensitivity')\n",
    "plt.title('ROC CURVE')\n",
    "plt.legend(loc=\"lower right\")\n",
    "plt.show()"
   ]
  },
  {
   "cell_type": "code",
   "execution_count": 14,
   "metadata": {
    "collapsed": true
   },
   "outputs": [],
   "source": [
    "from matplotlib import pyplot as plt"
   ]
  },
  {
   "cell_type": "code",
   "execution_count": 44,
   "metadata": {},
   "outputs": [
    {
     "data": {
      "text/html": [
       "<div>\n",
       "<table border=\"1\" class=\"dataframe\">\n",
       "  <thead>\n",
       "    <tr style=\"text-align: right;\">\n",
       "      <th></th>\n",
       "      <th>Quarter</th>\n",
       "      <th>NumActualDelinquents</th>\n",
       "      <th>NumOfPredictedDelinquents</th>\n",
       "      <th>NumRecordsInDataset</th>\n",
       "      <th>NumDelinquentsProperlyClassified</th>\n",
       "      <th>NumNonDelinquentsImproperlyClassified</th>\n",
       "    </tr>\n",
       "    <tr>\n",
       "      <th>Quarter</th>\n",
       "      <th></th>\n",
       "      <th></th>\n",
       "      <th></th>\n",
       "      <th></th>\n",
       "      <th></th>\n",
       "      <th></th>\n",
       "    </tr>\n",
       "  </thead>\n",
       "  <tbody>\n",
       "    <tr>\n",
       "      <th>Q21999</th>\n",
       "      <td>Q21999</td>\n",
       "      <td>202868</td>\n",
       "      <td>202868</td>\n",
       "      <td>7000000</td>\n",
       "      <td>6300</td>\n",
       "      <td>11388</td>\n",
       "    </tr>\n",
       "    <tr>\n",
       "      <th>Q41999</th>\n",
       "      <td>Q41999</td>\n",
       "      <td>270684</td>\n",
       "      <td>270684</td>\n",
       "      <td>6133986</td>\n",
       "      <td>10562</td>\n",
       "      <td>19293</td>\n",
       "    </tr>\n",
       "    <tr>\n",
       "      <th>Q12000</th>\n",
       "      <td>Q12000</td>\n",
       "      <td>185631</td>\n",
       "      <td>185631</td>\n",
       "      <td>3939565</td>\n",
       "      <td>8486</td>\n",
       "      <td>16418</td>\n",
       "    </tr>\n",
       "    <tr>\n",
       "      <th>Q22000</th>\n",
       "      <td>Q22000</td>\n",
       "      <td>255207</td>\n",
       "      <td>255207</td>\n",
       "      <td>5056705</td>\n",
       "      <td>14922</td>\n",
       "      <td>29630</td>\n",
       "    </tr>\n",
       "    <tr>\n",
       "      <th>Q32000</th>\n",
       "      <td>Q32000</td>\n",
       "      <td>275979</td>\n",
       "      <td>275979</td>\n",
       "      <td>5570045</td>\n",
       "      <td>15075</td>\n",
       "      <td>24623</td>\n",
       "    </tr>\n",
       "    <tr>\n",
       "      <th>Q42000</th>\n",
       "      <td>Q42000</td>\n",
       "      <td>318650</td>\n",
       "      <td>318650</td>\n",
       "      <td>6105572</td>\n",
       "      <td>15328</td>\n",
       "      <td>24931</td>\n",
       "    </tr>\n",
       "    <tr>\n",
       "      <th>Q12001</th>\n",
       "      <td>Q12001</td>\n",
       "      <td>239303</td>\n",
       "      <td>239303</td>\n",
       "      <td>7000000</td>\n",
       "      <td>7287</td>\n",
       "      <td>13813</td>\n",
       "    </tr>\n",
       "    <tr>\n",
       "      <th>Q22001</th>\n",
       "      <td>Q22001</td>\n",
       "      <td>245489</td>\n",
       "      <td>245489</td>\n",
       "      <td>7000000</td>\n",
       "      <td>8728</td>\n",
       "      <td>14932</td>\n",
       "    </tr>\n",
       "    <tr>\n",
       "      <th>Q32001</th>\n",
       "      <td>Q32001</td>\n",
       "      <td>246858</td>\n",
       "      <td>246858</td>\n",
       "      <td>7000000</td>\n",
       "      <td>8152</td>\n",
       "      <td>11068</td>\n",
       "    </tr>\n",
       "    <tr>\n",
       "      <th>Q42001</th>\n",
       "      <td>Q42001</td>\n",
       "      <td>215040</td>\n",
       "      <td>215040</td>\n",
       "      <td>7000000</td>\n",
       "      <td>7523</td>\n",
       "      <td>10842</td>\n",
       "    </tr>\n",
       "    <tr>\n",
       "      <th>Q12002</th>\n",
       "      <td>Q12002</td>\n",
       "      <td>315441</td>\n",
       "      <td>315441</td>\n",
       "      <td>7000000</td>\n",
       "      <td>16082</td>\n",
       "      <td>26056</td>\n",
       "    </tr>\n",
       "    <tr>\n",
       "      <th>Q22002</th>\n",
       "      <td>Q22002</td>\n",
       "      <td>380429</td>\n",
       "      <td>380429</td>\n",
       "      <td>7000000</td>\n",
       "      <td>20265</td>\n",
       "      <td>40693</td>\n",
       "    </tr>\n",
       "    <tr>\n",
       "      <th>Q32002</th>\n",
       "      <td>Q32002</td>\n",
       "      <td>290579</td>\n",
       "      <td>290579</td>\n",
       "      <td>7000000</td>\n",
       "      <td>13114</td>\n",
       "      <td>21562</td>\n",
       "    </tr>\n",
       "    <tr>\n",
       "      <th>Q42002</th>\n",
       "      <td>Q42002</td>\n",
       "      <td>189361</td>\n",
       "      <td>189361</td>\n",
       "      <td>7000000</td>\n",
       "      <td>6812</td>\n",
       "      <td>9692</td>\n",
       "    </tr>\n",
       "    <tr>\n",
       "      <th>Q12003</th>\n",
       "      <td>Q12003</td>\n",
       "      <td>172801</td>\n",
       "      <td>172801</td>\n",
       "      <td>7000000</td>\n",
       "      <td>5880</td>\n",
       "      <td>8648</td>\n",
       "    </tr>\n",
       "    <tr>\n",
       "      <th>Q22003</th>\n",
       "      <td>Q22003</td>\n",
       "      <td>158763</td>\n",
       "      <td>158763</td>\n",
       "      <td>7000000</td>\n",
       "      <td>5907</td>\n",
       "      <td>8645</td>\n",
       "    </tr>\n",
       "    <tr>\n",
       "      <th>Q32003</th>\n",
       "      <td>Q32003</td>\n",
       "      <td>147551</td>\n",
       "      <td>147551</td>\n",
       "      <td>7000000</td>\n",
       "      <td>5078</td>\n",
       "      <td>13061</td>\n",
       "    </tr>\n",
       "    <tr>\n",
       "      <th>Q42003</th>\n",
       "      <td>Q42003</td>\n",
       "      <td>257707</td>\n",
       "      <td>257707</td>\n",
       "      <td>7000000</td>\n",
       "      <td>9508</td>\n",
       "      <td>22365</td>\n",
       "    </tr>\n",
       "    <tr>\n",
       "      <th>Q12004</th>\n",
       "      <td>Q12004</td>\n",
       "      <td>254357</td>\n",
       "      <td>254357</td>\n",
       "      <td>7000000</td>\n",
       "      <td>11934</td>\n",
       "      <td>16738</td>\n",
       "    </tr>\n",
       "    <tr>\n",
       "      <th>Q22004</th>\n",
       "      <td>Q22004</td>\n",
       "      <td>233285</td>\n",
       "      <td>233285</td>\n",
       "      <td>7000000</td>\n",
       "      <td>10134</td>\n",
       "      <td>13569</td>\n",
       "    </tr>\n",
       "    <tr>\n",
       "      <th>Q32004</th>\n",
       "      <td>Q32004</td>\n",
       "      <td>279508</td>\n",
       "      <td>279508</td>\n",
       "      <td>7000000</td>\n",
       "      <td>12270</td>\n",
       "      <td>17661</td>\n",
       "    </tr>\n",
       "    <tr>\n",
       "      <th>Q42004</th>\n",
       "      <td>Q42004</td>\n",
       "      <td>326638</td>\n",
       "      <td>326638</td>\n",
       "      <td>7000000</td>\n",
       "      <td>14932</td>\n",
       "      <td>17191</td>\n",
       "    </tr>\n",
       "    <tr>\n",
       "      <th>Q12005</th>\n",
       "      <td>Q12005</td>\n",
       "      <td>342274</td>\n",
       "      <td>342274</td>\n",
       "      <td>7000000</td>\n",
       "      <td>20505</td>\n",
       "      <td>38770</td>\n",
       "    </tr>\n",
       "    <tr>\n",
       "      <th>Q22005</th>\n",
       "      <td>Q22005</td>\n",
       "      <td>351220</td>\n",
       "      <td>351220</td>\n",
       "      <td>7000000</td>\n",
       "      <td>22404</td>\n",
       "      <td>40888</td>\n",
       "    </tr>\n",
       "    <tr>\n",
       "      <th>Q32005</th>\n",
       "      <td>Q32005</td>\n",
       "      <td>352606</td>\n",
       "      <td>352606</td>\n",
       "      <td>7000000</td>\n",
       "      <td>23821</td>\n",
       "      <td>24787</td>\n",
       "    </tr>\n",
       "    <tr>\n",
       "      <th>Q42005</th>\n",
       "      <td>Q42005</td>\n",
       "      <td>435169</td>\n",
       "      <td>435169</td>\n",
       "      <td>7000000</td>\n",
       "      <td>31036</td>\n",
       "      <td>34841</td>\n",
       "    </tr>\n",
       "    <tr>\n",
       "      <th>Q12006</th>\n",
       "      <td>Q12006</td>\n",
       "      <td>531992</td>\n",
       "      <td>531992</td>\n",
       "      <td>7000000</td>\n",
       "      <td>43117</td>\n",
       "      <td>70901</td>\n",
       "    </tr>\n",
       "    <tr>\n",
       "      <th>Q22006</th>\n",
       "      <td>Q22006</td>\n",
       "      <td>549735</td>\n",
       "      <td>549735</td>\n",
       "      <td>7000000</td>\n",
       "      <td>54173</td>\n",
       "      <td>98858</td>\n",
       "    </tr>\n",
       "    <tr>\n",
       "      <th>Q32006</th>\n",
       "      <td>Q32006</td>\n",
       "      <td>576537</td>\n",
       "      <td>576537</td>\n",
       "      <td>7000000</td>\n",
       "      <td>60501</td>\n",
       "      <td>99753</td>\n",
       "    </tr>\n",
       "    <tr>\n",
       "      <th>Q42006</th>\n",
       "      <td>Q42006</td>\n",
       "      <td>572178</td>\n",
       "      <td>572178</td>\n",
       "      <td>7000000</td>\n",
       "      <td>48034</td>\n",
       "      <td>62263</td>\n",
       "    </tr>\n",
       "    <tr>\n",
       "      <th>Q12007</th>\n",
       "      <td>Q12007</td>\n",
       "      <td>576766</td>\n",
       "      <td>576766</td>\n",
       "      <td>7000000</td>\n",
       "      <td>48693</td>\n",
       "      <td>71271</td>\n",
       "    </tr>\n",
       "    <tr>\n",
       "      <th>Q22007</th>\n",
       "      <td>Q22007</td>\n",
       "      <td>602498</td>\n",
       "      <td>602498</td>\n",
       "      <td>7000000</td>\n",
       "      <td>49732</td>\n",
       "      <td>71940</td>\n",
       "    </tr>\n",
       "    <tr>\n",
       "      <th>Q32007</th>\n",
       "      <td>Q32007</td>\n",
       "      <td>715395</td>\n",
       "      <td>715395</td>\n",
       "      <td>7000000</td>\n",
       "      <td>72581</td>\n",
       "      <td>110414</td>\n",
       "    </tr>\n",
       "    <tr>\n",
       "      <th>Q42007</th>\n",
       "      <td>Q42007</td>\n",
       "      <td>784369</td>\n",
       "      <td>784369</td>\n",
       "      <td>7000000</td>\n",
       "      <td>80352</td>\n",
       "      <td>113974</td>\n",
       "    </tr>\n",
       "    <tr>\n",
       "      <th>Q12008</th>\n",
       "      <td>Q12008</td>\n",
       "      <td>582373</td>\n",
       "      <td>582373</td>\n",
       "      <td>7000000</td>\n",
       "      <td>58447</td>\n",
       "      <td>88349</td>\n",
       "    </tr>\n",
       "    <tr>\n",
       "      <th>Q22008</th>\n",
       "      <td>Q22008</td>\n",
       "      <td>496119</td>\n",
       "      <td>496119</td>\n",
       "      <td>7000000</td>\n",
       "      <td>48255</td>\n",
       "      <td>63560</td>\n",
       "    </tr>\n",
       "    <tr>\n",
       "      <th>Q32008</th>\n",
       "      <td>Q32008</td>\n",
       "      <td>556464</td>\n",
       "      <td>556464</td>\n",
       "      <td>8194537</td>\n",
       "      <td>73857</td>\n",
       "      <td>338362</td>\n",
       "    </tr>\n",
       "    <tr>\n",
       "      <th>Q42008</th>\n",
       "      <td>Q42008</td>\n",
       "      <td>382666</td>\n",
       "      <td>382666</td>\n",
       "      <td>8305023</td>\n",
       "      <td>23213</td>\n",
       "      <td>33427</td>\n",
       "    </tr>\n",
       "    <tr>\n",
       "      <th>Q12009</th>\n",
       "      <td>Q12009</td>\n",
       "      <td>120973</td>\n",
       "      <td>120973</td>\n",
       "      <td>7000000</td>\n",
       "      <td>4454</td>\n",
       "      <td>6399</td>\n",
       "    </tr>\n",
       "    <tr>\n",
       "      <th>Q22009</th>\n",
       "      <td>Q22009</td>\n",
       "      <td>74511</td>\n",
       "      <td>74511</td>\n",
       "      <td>7000000</td>\n",
       "      <td>2223</td>\n",
       "      <td>2984</td>\n",
       "    </tr>\n",
       "    <tr>\n",
       "      <th>Q32009</th>\n",
       "      <td>Q32009</td>\n",
       "      <td>82341</td>\n",
       "      <td>82341</td>\n",
       "      <td>7000000</td>\n",
       "      <td>2301</td>\n",
       "      <td>3717</td>\n",
       "    </tr>\n",
       "    <tr>\n",
       "      <th>Q42009</th>\n",
       "      <td>Q42009</td>\n",
       "      <td>85354</td>\n",
       "      <td>85354</td>\n",
       "      <td>7000000</td>\n",
       "      <td>2031</td>\n",
       "      <td>2199</td>\n",
       "    </tr>\n",
       "    <tr>\n",
       "      <th>Q12010</th>\n",
       "      <td>Q12010</td>\n",
       "      <td>82064</td>\n",
       "      <td>82064</td>\n",
       "      <td>7000000</td>\n",
       "      <td>1970</td>\n",
       "      <td>3076</td>\n",
       "    </tr>\n",
       "    <tr>\n",
       "      <th>Q22010</th>\n",
       "      <td>Q22010</td>\n",
       "      <td>78221</td>\n",
       "      <td>78221</td>\n",
       "      <td>7000000</td>\n",
       "      <td>2079</td>\n",
       "      <td>5464</td>\n",
       "    </tr>\n",
       "    <tr>\n",
       "      <th>Q32010</th>\n",
       "      <td>Q32010</td>\n",
       "      <td>54735</td>\n",
       "      <td>54735</td>\n",
       "      <td>7000000</td>\n",
       "      <td>1238</td>\n",
       "      <td>2220</td>\n",
       "    </tr>\n",
       "    <tr>\n",
       "      <th>Q42010</th>\n",
       "      <td>Q42010</td>\n",
       "      <td>40943</td>\n",
       "      <td>40943</td>\n",
       "      <td>7000000</td>\n",
       "      <td>761</td>\n",
       "      <td>1808</td>\n",
       "    </tr>\n",
       "    <tr>\n",
       "      <th>Q12011</th>\n",
       "      <td>Q12011</td>\n",
       "      <td>61963</td>\n",
       "      <td>61963</td>\n",
       "      <td>9294018</td>\n",
       "      <td>1424</td>\n",
       "      <td>8142</td>\n",
       "    </tr>\n",
       "  </tbody>\n",
       "</table>\n",
       "</div>"
      ],
      "text/plain": [
       "        Quarter  NumActualDelinquents  NumOfPredictedDelinquents  \\\n",
       "Quarter                                                            \n",
       "Q21999   Q21999                202868                     202868   \n",
       "Q41999   Q41999                270684                     270684   \n",
       "Q12000   Q12000                185631                     185631   \n",
       "Q22000   Q22000                255207                     255207   \n",
       "Q32000   Q32000                275979                     275979   \n",
       "Q42000   Q42000                318650                     318650   \n",
       "Q12001   Q12001                239303                     239303   \n",
       "Q22001   Q22001                245489                     245489   \n",
       "Q32001   Q32001                246858                     246858   \n",
       "Q42001   Q42001                215040                     215040   \n",
       "Q12002   Q12002                315441                     315441   \n",
       "Q22002   Q22002                380429                     380429   \n",
       "Q32002   Q32002                290579                     290579   \n",
       "Q42002   Q42002                189361                     189361   \n",
       "Q12003   Q12003                172801                     172801   \n",
       "Q22003   Q22003                158763                     158763   \n",
       "Q32003   Q32003                147551                     147551   \n",
       "Q42003   Q42003                257707                     257707   \n",
       "Q12004   Q12004                254357                     254357   \n",
       "Q22004   Q22004                233285                     233285   \n",
       "Q32004   Q32004                279508                     279508   \n",
       "Q42004   Q42004                326638                     326638   \n",
       "Q12005   Q12005                342274                     342274   \n",
       "Q22005   Q22005                351220                     351220   \n",
       "Q32005   Q32005                352606                     352606   \n",
       "Q42005   Q42005                435169                     435169   \n",
       "Q12006   Q12006                531992                     531992   \n",
       "Q22006   Q22006                549735                     549735   \n",
       "Q32006   Q32006                576537                     576537   \n",
       "Q42006   Q42006                572178                     572178   \n",
       "Q12007   Q12007                576766                     576766   \n",
       "Q22007   Q22007                602498                     602498   \n",
       "Q32007   Q32007                715395                     715395   \n",
       "Q42007   Q42007                784369                     784369   \n",
       "Q12008   Q12008                582373                     582373   \n",
       "Q22008   Q22008                496119                     496119   \n",
       "Q32008   Q32008                556464                     556464   \n",
       "Q42008   Q42008                382666                     382666   \n",
       "Q12009   Q12009                120973                     120973   \n",
       "Q22009   Q22009                 74511                      74511   \n",
       "Q32009   Q32009                 82341                      82341   \n",
       "Q42009   Q42009                 85354                      85354   \n",
       "Q12010   Q12010                 82064                      82064   \n",
       "Q22010   Q22010                 78221                      78221   \n",
       "Q32010   Q32010                 54735                      54735   \n",
       "Q42010   Q42010                 40943                      40943   \n",
       "Q12011   Q12011                 61963                      61963   \n",
       "\n",
       "         NumRecordsInDataset  NumDelinquentsProperlyClassified  \\\n",
       "Quarter                                                          \n",
       "Q21999               7000000                              6300   \n",
       "Q41999               6133986                             10562   \n",
       "Q12000               3939565                              8486   \n",
       "Q22000               5056705                             14922   \n",
       "Q32000               5570045                             15075   \n",
       "Q42000               6105572                             15328   \n",
       "Q12001               7000000                              7287   \n",
       "Q22001               7000000                              8728   \n",
       "Q32001               7000000                              8152   \n",
       "Q42001               7000000                              7523   \n",
       "Q12002               7000000                             16082   \n",
       "Q22002               7000000                             20265   \n",
       "Q32002               7000000                             13114   \n",
       "Q42002               7000000                              6812   \n",
       "Q12003               7000000                              5880   \n",
       "Q22003               7000000                              5907   \n",
       "Q32003               7000000                              5078   \n",
       "Q42003               7000000                              9508   \n",
       "Q12004               7000000                             11934   \n",
       "Q22004               7000000                             10134   \n",
       "Q32004               7000000                             12270   \n",
       "Q42004               7000000                             14932   \n",
       "Q12005               7000000                             20505   \n",
       "Q22005               7000000                             22404   \n",
       "Q32005               7000000                             23821   \n",
       "Q42005               7000000                             31036   \n",
       "Q12006               7000000                             43117   \n",
       "Q22006               7000000                             54173   \n",
       "Q32006               7000000                             60501   \n",
       "Q42006               7000000                             48034   \n",
       "Q12007               7000000                             48693   \n",
       "Q22007               7000000                             49732   \n",
       "Q32007               7000000                             72581   \n",
       "Q42007               7000000                             80352   \n",
       "Q12008               7000000                             58447   \n",
       "Q22008               7000000                             48255   \n",
       "Q32008               8194537                             73857   \n",
       "Q42008               8305023                             23213   \n",
       "Q12009               7000000                              4454   \n",
       "Q22009               7000000                              2223   \n",
       "Q32009               7000000                              2301   \n",
       "Q42009               7000000                              2031   \n",
       "Q12010               7000000                              1970   \n",
       "Q22010               7000000                              2079   \n",
       "Q32010               7000000                              1238   \n",
       "Q42010               7000000                               761   \n",
       "Q12011               9294018                              1424   \n",
       "\n",
       "         NumNonDelinquentsImproperlyClassified  \n",
       "Quarter                                         \n",
       "Q21999                                   11388  \n",
       "Q41999                                   19293  \n",
       "Q12000                                   16418  \n",
       "Q22000                                   29630  \n",
       "Q32000                                   24623  \n",
       "Q42000                                   24931  \n",
       "Q12001                                   13813  \n",
       "Q22001                                   14932  \n",
       "Q32001                                   11068  \n",
       "Q42001                                   10842  \n",
       "Q12002                                   26056  \n",
       "Q22002                                   40693  \n",
       "Q32002                                   21562  \n",
       "Q42002                                    9692  \n",
       "Q12003                                    8648  \n",
       "Q22003                                    8645  \n",
       "Q32003                                   13061  \n",
       "Q42003                                   22365  \n",
       "Q12004                                   16738  \n",
       "Q22004                                   13569  \n",
       "Q32004                                   17661  \n",
       "Q42004                                   17191  \n",
       "Q12005                                   38770  \n",
       "Q22005                                   40888  \n",
       "Q32005                                   24787  \n",
       "Q42005                                   34841  \n",
       "Q12006                                   70901  \n",
       "Q22006                                   98858  \n",
       "Q32006                                   99753  \n",
       "Q42006                                   62263  \n",
       "Q12007                                   71271  \n",
       "Q22007                                   71940  \n",
       "Q32007                                  110414  \n",
       "Q42007                                  113974  \n",
       "Q12008                                   88349  \n",
       "Q22008                                   63560  \n",
       "Q32008                                  338362  \n",
       "Q42008                                   33427  \n",
       "Q12009                                    6399  \n",
       "Q22009                                    2984  \n",
       "Q32009                                    3717  \n",
       "Q42009                                    2199  \n",
       "Q12010                                    3076  \n",
       "Q22010                                    5464  \n",
       "Q32010                                    2220  \n",
       "Q42010                                    1808  \n",
       "Q12011                                    8142  "
      ]
     },
     "execution_count": 44,
     "metadata": {},
     "output_type": "execute_result"
    }
   ],
   "source": [
    "evalmatrix_df=pd.read_csv(MATRIXPATH)\n",
    "evalmatrix_df.index=evalmatrix_df['Quarter']\n",
    "evalmatrix_df"
   ]
  },
  {
   "cell_type": "code",
   "execution_count": 47,
   "metadata": {},
   "outputs": [
    {
     "data": {
      "image/png": "[encoded data removed]",
      "text/plain": [
       "<matplotlib.figure.Figure at 0x1c11aa83b00>"
      ]
     },
     "metadata": {},
     "output_type": "display_data"
    }
   ],
   "source": [
    "pd.DataFrame(evalmatrix_df['NumDelinquentsProperlyClassified']/evalmatrix_df['NumOfPredictedDelinquents']*100,columns=['Percent of Delinquents properly classified']).plot(kind='bar',figsize=((20,10)))\n",
    "plt.show()"
   ]
  },
  {
   "cell_type": "code",
   "execution_count": 50,
   "metadata": {},
   "outputs": [
    {
     "data": {
      "image/png": "[encoded data removed]",
      "text/plain": [
       "<matplotlib.figure.Figure at 0x1c11afcbeb8>"
      ]
     },
     "metadata": {},
     "output_type": "display_data"
    }
   ],
   "source": [
    "pd.DataFrame(100*evalmatrix_df['NumNonDelinquentsImproperlyClassified']/(evalmatrix_df['NumRecordsInDataset']-evalmatrix_df['NumActualDelinquents'])).plot(kind='bar',title='Percentage of Non Delinquents Improperly Classified',figsize=((20,10)))\n",
    "plt.show()"
   ]
  }
 ],
 "metadata": {
  "kernelspec": {
   "display_name": "Python 3",
   "language": "python",
   "name": "python3"
  },
  "language_info": {
   "codemirror_mode": {
    "name": "ipython",
    "version": 3
   },
   "file_extension": ".py",
   "mimetype": "text/x-python",
   "name": "python",
   "nbconvert_exporter": "python",
   "pygments_lexer": "ipython3",
   "version": "3.6.0"
  }
 },
 "nbformat": 4,
 "nbformat_minor": 2
}
